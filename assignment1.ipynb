{
 "cells": [
  {
   "cell_type": "markdown",
   "id": "d6610264-1cdd-4ec0-85f3-1f5e006a896d",
   "metadata": {},
   "source": [
    "SOLUTION 1:\n",
    "\n",
    "HELLO   (STRING VALUE)\n",
    "6        (INT VALUE)\n",
    "-87.8    (FLOAT VALUE)\n",
    "*        EXPRESSION\n",
    "-        EXPRESSION\n",
    "+        EXPRESSION\n",
    "/        EXPRESSION\n",
    "\n",
    "\n",
    "\n"
   ]
  },
  {
   "cell_type": "markdown",
   "id": "9ccc671d-36c3-4440-a2c1-0c62ad8e235c",
   "metadata": {},
   "source": [
    "# DIFFRENCE BETWEEN STRING AND VARIABLE\n",
    "STRING\n",
    "A string is a sequence of characters enclosed in double quotes.\n",
    "Always written in quote\n",
    "\n",
    "VARIABLE\n",
    "A variable is a name that stores a value\n",
    "A container that holds data\n",
    "Its name cannot start with number\n",
    "\n"
   ]
  },
  {
   "cell_type": "markdown",
   "id": "ef719d3a-b83d-424d-ba3a-f045614ea603",
   "metadata": {},
   "source": [
    "# data type\n",
    "integer\n",
    "string\n",
    "float"
   ]
  },
  {
   "cell_type": "markdown",
   "id": "70f0a058-21e7-4132-9fb0-349260201f76",
   "metadata": {},
   "source": [
    "# EXPRESSION \n",
    "An expression is made with value, variable, \n",
    "and operator\n",
    "an expression evaluates the values."
   ]
  },
  {
   "cell_type": "markdown",
   "id": "d4bc9440-2648-4f09-a9a5-14e22e437b07",
   "metadata": {},
   "source": [
    "# expression and statement \n",
    "\n",
    "expression produce a  value like (2+2) = 4\n",
    "like assigning a value or defining a function.\n",
    "Example: spam = 10 is a statement because it assigns a value.\n",
    "\n",
    "\n"
   ]
  },
  {
   "cell_type": "code",
   "execution_count": 3,
   "id": "02bfcfe5-7ac8-469b-a2fc-a3d0bfaad90a",
   "metadata": {},
   "outputs": [
    {
     "name": "stdout",
     "output_type": "stream",
     "text": [
      "22\n"
     ]
    }
   ],
   "source": [
    "bacon = 22\n",
    "bacon + 1\n",
    "print(bacon)"
   ]
  },
  {
   "cell_type": "markdown",
   "id": "b2b5b08f-29ca-40fe-b3b3-ebbd2cd80311",
   "metadata": {},
   "source": [
    "# Why is eggs a valid variable name while 100 is invalid?\n",
    "because eggs is starts with alphabet and 100 is a numerice number and variable cannot starts from 100"
   ]
  },
  {
   "cell_type": "markdown",
   "id": "f585ef9f-ab76-4155-89d9-c04ead574bed",
   "metadata": {},
   "source": [
    "# I have eaten ' + 99 + ' burritos.'\n",
    "we are trying to add  a string with an integer (99), and python does not allow combining different data types directly using."
   ]
  },
  {
   "cell_type": "markdown",
   "id": "522ee30e-0d66-4dd3-b8b4-43db57bc7f6d",
   "metadata": {},
   "source": [
    "# "
   ]
  },
  {
   "cell_type": "markdown",
   "id": "093396f9-49e0-4af0-98fe-d8be640c2ca8",
   "metadata": {},
   "source": [
    "# What should the values of the following two terms be?\n",
    "spam + spamspam\n",
    "spam * 3 \n",
    "\n",
    "print(\"spam\" +\"spamspam\")\n",
    "print(\"spam\" * 3)"
   ]
  },
  {
   "cell_type": "code",
   "execution_count": 2,
   "id": "18c7b13b-43f9-4937-b1a6-0a3ac065bdf7",
   "metadata": {},
   "outputs": [
    {
     "name": "stdout",
     "output_type": "stream",
     "text": [
      "spamspamspam\n",
      "spamspamspam\n"
     ]
    }
   ],
   "source": [
    " #What should the values of the following two terms be?\n",
    "\"spam\" + \"spamspam\"\n",
    "\"spam\" * 3 \n",
    "\n",
    "print(\"spam\" +\"spamspam\")\n",
    "print(\"spam\" * 3)"
   ]
  },
  {
   "cell_type": "code",
   "execution_count": null,
   "id": "0cdb1ba6-2588-41b0-a070-792b46c6953b",
   "metadata": {},
   "outputs": [],
   "source": [
    "# What three functions can be used to get the integer, floating-point number, or string\n",
    "#version of a value?\n",
    "\n",
    "int()\n",
    "str()\n",
    "float()"
   ]
  }
 ],
 "metadata": {
  "kernelspec": {
   "display_name": "Python 3 (ipykernel)",
   "language": "python",
   "name": "python3"
  },
  "language_info": {
   "codemirror_mode": {
    "name": "ipython",
    "version": 3
   },
   "file_extension": ".py",
   "mimetype": "text/x-python",
   "name": "python",
   "nbconvert_exporter": "python",
   "pygments_lexer": "ipython3",
   "version": "3.13.2"
  }
 },
 "nbformat": 4,
 "nbformat_minor": 5
}
